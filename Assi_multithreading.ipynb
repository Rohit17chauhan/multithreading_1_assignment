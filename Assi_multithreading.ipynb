{
 "cells": [
  {
   "cell_type": "code",
   "execution_count": 1,
   "id": "4a96414d-de5a-40a3-a96d-78f471bc4db4",
   "metadata": {},
   "outputs": [
    {
     "data": {
      "text/plain": [
       "' Assignment multithreading '"
      ]
     },
     "execution_count": 1,
     "metadata": {},
     "output_type": "execute_result"
    }
   ],
   "source": [
    "\"\"\" Assignment multithreading \"\"\""
   ]
  },
  {
   "cell_type": "code",
   "execution_count": 5,
   "id": "e0747d88-5fb0-45a7-972d-5b95874a0563",
   "metadata": {},
   "outputs": [
    {
     "data": {
      "text/plain": [
       "' Q1. what is multithreading in python? why is it used? Name the module used to handle threads in python.'"
      ]
     },
     "execution_count": 5,
     "metadata": {},
     "output_type": "execute_result"
    }
   ],
   "source": [
    "\"\"\" Q1. what is multithreading in python? why is it used? Name the module used to handle threads in python.\"\"\""
   ]
  },
  {
   "cell_type": "code",
   "execution_count": 8,
   "id": "b6e20af2-2ba6-483d-8166-4fb77792a21e",
   "metadata": {},
   "outputs": [
    {
     "data": {
      "text/plain": [
       "'when we create a programe and then we use a core to execute  a multiple program are we can say we crete a mutltiple thread and this is  called a multithreading or we simply say that we have to execute a multiple program are multiple thread'"
      ]
     },
     "execution_count": 8,
     "metadata": {},
     "output_type": "execute_result"
    }
   ],
   "source": [
    "\"when we create a programe and then we use a core to execute  a multiple program are we can say we crete a mutltiple thread and this is  called a multithreading or we simply say that we have to execute a multiple programme are multiple thread\""
   ]
  },
  {
   "cell_type": "code",
   "execution_count": 9,
   "id": "e92cba6b-50d8-461d-a3c5-866a3d9b1283",
   "metadata": {},
   "outputs": [
    {
     "data": {
      "text/plain": [
       "' we use multiplethreading to execute a program more faster than a normal programme'"
      ]
     },
     "execution_count": 9,
     "metadata": {},
     "output_type": "execute_result"
    }
   ],
   "source": [
    "\" we use multiplethreading to execute a program more faster than a normal programme\""
   ]
  },
  {
   "cell_type": "code",
   "execution_count": 10,
   "id": "ac675de7-1883-4a75-a9a4-dc36ee19d899",
   "metadata": {},
   "outputs": [
    {
     "data": {
      "text/plain": [
       "'the module we are used is called threading'"
      ]
     },
     "execution_count": 10,
     "metadata": {},
     "output_type": "execute_result"
    }
   ],
   "source": [
    "\"the module we are used is called threading\""
   ]
  },
  {
   "cell_type": "code",
   "execution_count": 11,
   "id": "0ee616fc-493e-43c4-8b36-0d855ee1bbfa",
   "metadata": {},
   "outputs": [
    {
     "data": {
      "text/plain": [
       "'Q2. why threading module used? write the use of the following functions\\n1. activeCount\\n2.currentThread\\n3.enumerate'"
      ]
     },
     "execution_count": 11,
     "metadata": {},
     "output_type": "execute_result"
    }
   ],
   "source": [
    "\"\"\"Q2. why threading module used? write the use of the following functions\n",
    "1. activeCount\n",
    "2.currentThread\n",
    "3.enumerate\"\"\""
   ]
  },
  {
   "cell_type": "code",
   "execution_count": 12,
   "id": "b246c3d8-696f-41c2-bc91-004bdb2b04df",
   "metadata": {},
   "outputs": [
    {
     "data": {
      "text/plain": [
       "'threading are used to execute a multiple programme in a one time into a single core are more than a core and threading are used to excetue a multiple program simultaniously'"
      ]
     },
     "execution_count": 12,
     "metadata": {},
     "output_type": "execute_result"
    }
   ],
   "source": [
    "\"threading are used to execute a multiple programme in a one time into a single core are more than a core and threading are used to excetue a multiple program simultaniously\""
   ]
  },
  {
   "cell_type": "code",
   "execution_count": 13,
   "id": "c654cfae-5bd2-4a4a-9af7-c91fc6909ab9",
   "metadata": {},
   "outputs": [],
   "source": [
    "activecount=\"activeCount() is a function that returns the number of Thread objects currently alive in the program. A Thread object represents a thread of execution.\""
   ]
  },
  {
   "cell_type": "code",
   "execution_count": 14,
   "id": "d9bc082f-d772-436f-a517-6d3e3e775658",
   "metadata": {},
   "outputs": [
    {
     "data": {
      "text/plain": [
       "'activeCount() is a function that returns the number of Thread objects currently alive in the program. A Thread object represents a thread of execution.'"
      ]
     },
     "execution_count": 14,
     "metadata": {},
     "output_type": "execute_result"
    }
   ],
   "source": [
    "activecount"
   ]
  },
  {
   "cell_type": "code",
   "execution_count": 15,
   "id": "16d7db15-b410-46cf-9195-30d7de6d638f",
   "metadata": {},
   "outputs": [],
   "source": [
    "currentThread=\"currentThread() is a function that returns the currently executing Thread object.This function is useful when you need to identify the thread that is currently running and perform actions based on its identity or state.\""
   ]
  },
  {
   "cell_type": "code",
   "execution_count": 16,
   "id": "bdc72285-02bf-46e7-8327-a641a70de594",
   "metadata": {},
   "outputs": [
    {
     "data": {
      "text/plain": [
       "'currentThread() is a function that returns the currently executing Thread object.This function is useful when you need to identify the thread that is currently running and perform actions based on its identity or state.'"
      ]
     },
     "execution_count": 16,
     "metadata": {},
     "output_type": "execute_result"
    }
   ],
   "source": [
    "currentThread"
   ]
  },
  {
   "cell_type": "code",
   "execution_count": 17,
   "id": "89da97bb-b56b-4e95-9741-088538618422",
   "metadata": {},
   "outputs": [],
   "source": [
    "enumerate_=\"enumerate() is a function that returns a list of all currently alive Thread objects.It can be helpful for iterating through and inspecting all the threads in a program, especially when you need to perform operations on multiple threads.\""
   ]
  },
  {
   "cell_type": "code",
   "execution_count": 18,
   "id": "082a98ec-85da-4de4-9aac-b317c0c38258",
   "metadata": {},
   "outputs": [
    {
     "data": {
      "text/plain": [
       "'enumerate() is a function that returns a list of all currently alive Thread objects.It can be helpful for iterating through and inspecting all the threads in a program, especially when you need to perform operations on multiple threads.'"
      ]
     },
     "execution_count": 18,
     "metadata": {},
     "output_type": "execute_result"
    }
   ],
   "source": [
    "enumerate_"
   ]
  },
  {
   "cell_type": "code",
   "execution_count": 19,
   "id": "eff0ff06-30e3-4898-8262-41adcff52380",
   "metadata": {},
   "outputs": [
    {
     "data": {
      "text/plain": [
       "'Q3. Explain the following functions\\n1.run\\n2.start\\n3. join\\n4. isAlive'"
      ]
     },
     "execution_count": 19,
     "metadata": {},
     "output_type": "execute_result"
    }
   ],
   "source": [
    "\"\"\"Q3. Explain the following functions\n",
    "1.run\n",
    "2.start\n",
    "3. join\n",
    "4. isAlive\"\"\""
   ]
  },
  {
   "cell_type": "code",
   "execution_count": 20,
   "id": "3a323bd1-17e9-438a-97b8-2027ac871771",
   "metadata": {},
   "outputs": [],
   "source": [
    "run=\"The run() method is not a function, but rather a method that you can override when you create a custom thread class by subclassing threading.When you create a new thread object and start it using the start() method, it will call the run() method in a separate thread of execution.\"\n"
   ]
  },
  {
   "cell_type": "code",
   "execution_count": 21,
   "id": "c749f4d3-cc4d-4f19-af93-55e511259e5a",
   "metadata": {},
   "outputs": [
    {
     "data": {
      "text/plain": [
       "'The run() method is not a function, but rather a method that you can override when you create a custom thread class by subclassing threading.When you create a new thread object and start it using the start() method, it will call the run() method in a separate thread of execution.'"
      ]
     },
     "execution_count": 21,
     "metadata": {},
     "output_type": "execute_result"
    }
   ],
   "source": [
    "run"
   ]
  },
  {
   "cell_type": "code",
   "execution_count": 22,
   "id": "e9b1b3b0-e7a4-464d-8c10-34f8258a0c7b",
   "metadata": {},
   "outputs": [],
   "source": [
    "start=\"The start() method is used to start a new thread of execution for the thread object. When you call start(), it initiates the thread and invokes the run() method in a separate thread.\""
   ]
  },
  {
   "cell_type": "code",
   "execution_count": 23,
   "id": "1162f4fb-d514-4e26-9e8d-390aaee07c35",
   "metadata": {},
   "outputs": [
    {
     "data": {
      "text/plain": [
       "'The start() method is used to start a new thread of execution for the thread object. When you call start(), it initiates the thread and invokes the run() method in a separate thread.'"
      ]
     },
     "execution_count": 23,
     "metadata": {},
     "output_type": "execute_result"
    }
   ],
   "source": [
    "start"
   ]
  },
  {
   "cell_type": "code",
   "execution_count": 24,
   "id": "fb768e26-ac8f-4a44-938b-be6e10b5b322",
   "metadata": {},
   "outputs": [],
   "source": [
    "join=\"The join() method is used to block the calling thread until the thread on which it is called has finished executing.\""
   ]
  },
  {
   "cell_type": "code",
   "execution_count": 25,
   "id": "bbcd9f68-da6e-4457-9302-d52b2ecc20ca",
   "metadata": {},
   "outputs": [
    {
     "data": {
      "text/plain": [
       "'The join() method is used to block the calling thread until the thread on which it is called has finished executing.'"
      ]
     },
     "execution_count": 25,
     "metadata": {},
     "output_type": "execute_result"
    }
   ],
   "source": [
    "join"
   ]
  },
  {
   "cell_type": "code",
   "execution_count": 26,
   "id": "d3b72124-952f-44cf-9b02-7c2fbd90f069",
   "metadata": {},
   "outputs": [],
   "source": [
    "isAlive=\"The isAlive() method is used to check whether a thread is currently running or has finished its execution.t returns True if the thread is running, and False if it has terminated or hasn't started yet.\""
   ]
  },
  {
   "cell_type": "code",
   "execution_count": 27,
   "id": "2567e7c2-87e6-46ad-bd75-79da97cf317b",
   "metadata": {},
   "outputs": [
    {
     "data": {
      "text/plain": [
       "\"The isAlive() method is used to check whether a thread is currently running or has finished its execution.t returns True if the thread is running, and False if it has terminated or hasn't started yet.\""
      ]
     },
     "execution_count": 27,
     "metadata": {},
     "output_type": "execute_result"
    }
   ],
   "source": [
    "isAlive"
   ]
  },
  {
   "cell_type": "code",
   "execution_count": 28,
   "id": "366ff29a-b02e-4c5d-9c15-fba1f6050a8b",
   "metadata": {},
   "outputs": [
    {
     "data": {
      "text/plain": [
       "'Q4. write a python program to create two threads. Thread one must print the list of squares and thread\\ntwo must print the list of cubes'"
      ]
     },
     "execution_count": 28,
     "metadata": {},
     "output_type": "execute_result"
    }
   ],
   "source": [
    "\"\"\"Q4. write a python program to create two threads. Thread one must print the list of squares and thread\n",
    "two must print the list of cubes\"\"\""
   ]
  },
  {
   "cell_type": "code",
   "execution_count": 49,
   "id": "2652ef3a-13fb-45bd-a676-6d5261ae7e6d",
   "metadata": {},
   "outputs": [],
   "source": [
    "import threading"
   ]
  },
  {
   "cell_type": "code",
   "execution_count": 7,
   "id": "afa1f36c-d7a8-4785-b689-c3b7625f6eab",
   "metadata": {},
   "outputs": [
    {
     "name": "stdout",
     "output_type": "stream",
     "text": [
      "1\n",
      "4\n",
      "9\n",
      "16\n",
      "25\n",
      "36\n",
      "49\n",
      "64\n",
      "81\n",
      "1\n",
      "8\n",
      "27\n",
      "64\n",
      "125\n",
      "216\n",
      "343\n",
      "512\n",
      "729\n"
     ]
    }
   ],
   "source": [
    "import threading\n",
    "def square():\n",
    "    for i in range(1,10):\n",
    "        square=i**2\n",
    "        print(square)\n",
    "        \n",
    "def cube():\n",
    "    for i in range(1,10):\n",
    "        cube=i**3\n",
    "        print(cube)\n",
    "thread1 =threading.Thread(target=square)\n",
    "thread2 =threading.Thread(target=cube)\n",
    "\n",
    "    \n",
    "thread1.start()\n",
    "thread2.start()\n",
    "\n",
    "thread1.join()\n",
    "thread2.join()\n",
    "\n"
   ]
  },
  {
   "cell_type": "code",
   "execution_count": 8,
   "id": "c596a119-91af-4e8e-9e70-3576a5271b17",
   "metadata": {},
   "outputs": [
    {
     "data": {
      "text/plain": [
       "'Q5. State advantages and disadvantages of multithreading'"
      ]
     },
     "execution_count": 8,
     "metadata": {},
     "output_type": "execute_result"
    }
   ],
   "source": [
    "\"\"\"Q5. State advantages and disadvantages of multithreading\"\"\""
   ]
  },
  {
   "cell_type": "code",
   "execution_count": 9,
   "id": "6ed02b27-7486-47b1-b391-992b3864b19e",
   "metadata": {},
   "outputs": [],
   "source": [
    "advantage=\" Multithreading can enhance the responsiveness of an application, especially in GUI-based or interactive programs. It allows the user interface to remain responsive while background tasks execute concurrently., Multithreading can enhance the responsiveness of an application, especially in GUI-based or interactive programs. It allows the user interface to remain responsive while background tasks execute concurrently.\""
   ]
  },
  {
   "cell_type": "code",
   "execution_count": 10,
   "id": "5d43aa80-32ae-4390-ad0b-f25f00723807",
   "metadata": {},
   "outputs": [
    {
     "data": {
      "text/plain": [
       "' Multithreading can enhance the responsiveness of an application, especially in GUI-based or interactive programs. It allows the user interface to remain responsive while background tasks execute concurrently., Multithreading can enhance the responsiveness of an application, especially in GUI-based or interactive programs. It allows the user interface to remain responsive while background tasks execute concurrently.'"
      ]
     },
     "execution_count": 10,
     "metadata": {},
     "output_type": "execute_result"
    }
   ],
   "source": [
    "advantage"
   ]
  },
  {
   "cell_type": "code",
   "execution_count": 11,
   "id": "0d36d732-bc8d-4aec-a068-9d0a4c4e030e",
   "metadata": {},
   "outputs": [],
   "source": [
    "disadvantage=\"Multithreaded programming can be challenging due to issues like race conditions, deadlocks, and synchronization problems. Debugging and maintaining multithreaded code is often more complex.,Debugging multithreaded applications can be challenging. Race conditions and other concurrency-related bugs may only occur intermittently and can be challenging to reproduce and diagnose.\""
   ]
  },
  {
   "cell_type": "code",
   "execution_count": 12,
   "id": "6c700d24-b99a-4f62-996d-f39398092033",
   "metadata": {},
   "outputs": [
    {
     "data": {
      "text/plain": [
       "'Multithreaded programming can be challenging due to issues like race conditions, deadlocks, and synchronization problems. Debugging and maintaining multithreaded code is often more complex.,Debugging multithreaded applications can be challenging. Race conditions and other concurrency-related bugs may only occur intermittently and can be challenging to reproduce and diagnose.'"
      ]
     },
     "execution_count": 12,
     "metadata": {},
     "output_type": "execute_result"
    }
   ],
   "source": [
    "disadvantage"
   ]
  },
  {
   "cell_type": "code",
   "execution_count": 13,
   "id": "6d83274a-2ce2-4eac-96fb-6497fd11587d",
   "metadata": {},
   "outputs": [
    {
     "data": {
      "text/plain": [
       "' Q6. Explain deadlocks and race conditions.'"
      ]
     },
     "execution_count": 13,
     "metadata": {},
     "output_type": "execute_result"
    }
   ],
   "source": [
    "\"\"\" Q6. Explain deadlocks and race conditions.\"\"\""
   ]
  },
  {
   "cell_type": "code",
   "execution_count": 14,
   "id": "0d2f1c8f-114f-4a34-bbfa-dcb99ae0d856",
   "metadata": {},
   "outputs": [],
   "source": [
    "Deadlock=\"A deadlock is a situation in which two or more threads or processes become stuck, unable to proceed because they are each waiting for the other(s) to release a resource. Deadlocks typically involve the following four conditions, known as the deadlock conditions\""
   ]
  },
  {
   "cell_type": "code",
   "execution_count": 15,
   "id": "3f0849c9-2482-454d-952b-c9cf257c151c",
   "metadata": {},
   "outputs": [
    {
     "data": {
      "text/plain": [
       "'A deadlock is a situation in which two or more threads or processes become stuck, unable to proceed because they are each waiting for the other(s) to release a resource. Deadlocks typically involve the following four conditions, known as the deadlock conditions'"
      ]
     },
     "execution_count": 15,
     "metadata": {},
     "output_type": "execute_result"
    }
   ],
   "source": [
    "Deadlock"
   ]
  },
  {
   "cell_type": "code",
   "execution_count": 16,
   "id": "df28d49b-aa21-425e-84ba-944917c118ed",
   "metadata": {},
   "outputs": [],
   "source": [
    "RaceCondition=\"A race condition is a situation in which the behavior of a program depends on the relative timing of events or operations among threads or processes. In other words, the outcome of the program is uncertain because multiple threads are accessing and modifying shared resources concurrently without proper synchronization. Race conditions can lead to unexpected and incorrect results.\""
   ]
  },
  {
   "cell_type": "code",
   "execution_count": 17,
   "id": "119e1ce2-cb20-4cd8-ad3d-4275c392dbcb",
   "metadata": {},
   "outputs": [
    {
     "data": {
      "text/plain": [
       "'A race condition is a situation in which the behavior of a program depends on the relative timing of events or operations among threads or processes. In other words, the outcome of the program is uncertain because multiple threads are accessing and modifying shared resources concurrently without proper synchronization. Race conditions can lead to unexpected and incorrect results.'"
      ]
     },
     "execution_count": 17,
     "metadata": {},
     "output_type": "execute_result"
    }
   ],
   "source": [
    "RaceCondition"
   ]
  },
  {
   "cell_type": "code",
   "execution_count": null,
   "id": "da74f4e6-8b19-4664-8bde-772d4536eff6",
   "metadata": {},
   "outputs": [],
   "source": []
  }
 ],
 "metadata": {
  "kernelspec": {
   "display_name": "Python 3 (ipykernel)",
   "language": "python",
   "name": "python3"
  },
  "language_info": {
   "codemirror_mode": {
    "name": "ipython",
    "version": 3
   },
   "file_extension": ".py",
   "mimetype": "text/x-python",
   "name": "python",
   "nbconvert_exporter": "python",
   "pygments_lexer": "ipython3",
   "version": "3.10.8"
  }
 },
 "nbformat": 4,
 "nbformat_minor": 5
}
